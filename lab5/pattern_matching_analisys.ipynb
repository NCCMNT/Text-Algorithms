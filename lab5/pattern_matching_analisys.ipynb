{
 "cells": [
  {
   "cell_type": "code",
   "execution_count": 92,
   "id": "3b4d5c08",
   "metadata": {},
   "outputs": [],
   "source": [
    "import time, psutil, os, sys\n",
    "import pandas as pd\n",
    "\n",
    "# Importing suffix structures\n",
    "from ukkonen import SuffixTree\n",
    "from suffix_array import SuffixArray\n",
    "\n",
    "# Importing pattern finding algoritms from previous labs\n",
    "from utils.kmp_algorithm import kmp_pattern_match\n",
    "from utils.boyer_moore_algorithm import boyer_moore_pattern_match\n",
    "from utils.rabin_karp_algorithm import rabin_karp_pattern_match\n",
    "from utils.aho_corasick_algorithm import AhoCorasick"
   ]
  },
  {
   "cell_type": "code",
   "execution_count": 93,
   "id": "943c190a",
   "metadata": {},
   "outputs": [],
   "source": [
    "def get_memory_usage():\n",
    "    process = psutil.Process(os.getpid())\n",
    "    return process.memory_info().rss / 1024  # in KB"
   ]
  },
  {
   "cell_type": "code",
   "execution_count": 94,
   "id": "5f2aad5f",
   "metadata": {},
   "outputs": [],
   "source": [
    "def compare_pattern_matching_algorithms(text: str, pattern: str) -> dict:\n",
    "    \"\"\"\n",
    "    Compare the performance of different pattern matching algorithms.\n",
    " \n",
    "    Args:\n",
    "        text: The text to search in\n",
    "        pattern: The pattern to search for\n",
    " \n",
    "    Returns:\n",
    "        A dictionary containing the results of each algorithm:\n",
    "        - Execution time in milliseconds\n",
    "        - Memory usage in kilobytes\n",
    "        - Number of character comparisons made\n",
    "        - Positions where the pattern was found\n",
    "    \"\"\"\n",
    "    prior_mem = get_memory_usage()\n",
    "\n",
    "    # Implement algorithm comparisons\n",
    "    # For each algorithm:\n",
    "    #   1. Measure execution time\n",
    "    #   2. Measure memory usage\n",
    "    #   3. Count character comparisons\n",
    "    #   4. Find pattern positions\n",
    "\n",
    "    # Measuring time and memory usage\n",
    "\n",
    "    # Suffix array time exec and mem usage\n",
    "    start_time = time.time()\n",
    "    sa = SuffixArray(text)\n",
    "    sa.count_compares = True\n",
    "    sa_result, sa_compares = sa.find_pattern(pattern)\n",
    "    end_time = time.time()\n",
    "    mem_after_sa = get_memory_usage()\n",
    "    sarray_time_exec = (end_time - start_time) * 1000\n",
    "    sarray_mem_usage = mem_after_sa - prior_mem\n",
    "\n",
    "    # Suffix tree time exec and mem usage\n",
    "    start_time = time.time()\n",
    "    st = SuffixTree(text)\n",
    "    st.count_compares = True\n",
    "    st_result, st_compares = st.find_pattern(pattern)\n",
    "    end_time = time.time()\n",
    "    mem_after_st = get_memory_usage()\n",
    "    stree_time_exec = (end_time - start_time) * 1000\n",
    "    stree_mem_usage = mem_after_st - mem_after_sa\n",
    "\n",
    "    # KMP time exec and mem usage\n",
    "    start_time = time.time()\n",
    "    kmp_result, kmp_compares = kmp_pattern_match(text, pattern)\n",
    "    end_time = time.time()\n",
    "    mem_after_kmp = get_memory_usage()\n",
    "    kmp_time_exec = (end_time - start_time) * 1000\n",
    "    kmp_mem_usage = mem_after_kmp - mem_after_st\n",
    "    \n",
    "    # Boyer-Moore time exec and mem usage\n",
    "    start_time = time.time()\n",
    "    bm_result, bm_compares = boyer_moore_pattern_match(text, pattern)\n",
    "    end_time = time.time()\n",
    "    mem_after_bm = get_memory_usage()\n",
    "    bm_time_exec = (end_time - start_time) * 1000\n",
    "    bm_mem_usage = mem_after_bm - mem_after_kmp\n",
    "\n",
    "    # Rabin-Karp time exec and mem usage\n",
    "    start_time = time.time()\n",
    "    rk_result, rk_compares = rabin_karp_pattern_match(text, pattern)\n",
    "    end_time = time.time()\n",
    "    mem_after_rk = get_memory_usage()\n",
    "    rk_time_exec = (end_time - start_time) * 1000\n",
    "    rk_mem_usage = mem_after_rk - mem_after_bm\n",
    "\n",
    "    # Aho-Corasick time exec and mem usage\n",
    "    start_time = time.time()\n",
    "    ac = AhoCorasick([pattern])\n",
    "    ac_result, ac_compares = ac.search(text)\n",
    "    end_time = time.time()\n",
    "    mem_after_ac = get_memory_usage()\n",
    "    ac_time_exec = (end_time - start_time) * 1000\n",
    "    ac_mem_usage = mem_after_ac - mem_after_rk\n",
    "\n",
    "    sa_result.sort()\n",
    "    st_result.sort()\n",
    "    kmp_result.sort()\n",
    "    bm_result.sort()\n",
    "    rk_result.sort()\n",
    "    ac_result = [index for index, _ in ac_result]\n",
    "    ac_result.sort()\n",
    "\n",
    "    return {\n",
    "        \"Suffix array\": {\n",
    "            \"execution_time_ms\": sarray_time_exec,\n",
    "            \"memory_usage_kb\": sarray_mem_usage,\n",
    "            \"compares\": sa_compares,\n",
    "            \"results\": sa_result\n",
    "        },\n",
    "        \"Suffix tree\": {\n",
    "            \"execution_time_ms\": stree_time_exec,\n",
    "            \"memory_usage_kb\": stree_mem_usage,\n",
    "            \"compares\": st_compares,\n",
    "            \"results\": st_result\n",
    "        },\n",
    "        \"Knuth-Morris-Pratt\": {\n",
    "            \"execution_time_ms\": kmp_time_exec,\n",
    "            \"memory_usage_kb\": kmp_mem_usage,\n",
    "            \"compares\": kmp_compares,\n",
    "            \"results\": kmp_result\n",
    "        },\n",
    "        \"Boyer-Moore\": {\n",
    "            \"execution_time_ms\": bm_time_exec,\n",
    "            \"memory_usage_kb\": bm_mem_usage,\n",
    "            \"compares\": bm_compares,\n",
    "            \"results\": bm_result\n",
    "        },\n",
    "        \"Rabin-Karp\": {\n",
    "            \"execution_time_ms\": rk_time_exec,\n",
    "            \"memory_usage_kb\": rk_mem_usage,\n",
    "            \"compares\": rk_compares,\n",
    "            \"results\": rk_result\n",
    "        },\n",
    "        \"Aho-Corasick\": {\n",
    "            \"execution_time_ms\": ac_time_exec,\n",
    "            \"memory_usage_kb\": ac_mem_usage,\n",
    "            \"compares\": ac_compares,\n",
    "            \"results\": ac_result\n",
    "        }\n",
    "    }"
   ]
  },
  {
   "cell_type": "code",
   "execution_count": 95,
   "id": "43eb6aa9",
   "metadata": {},
   "outputs": [
    {
     "data": {
      "text/plain": [
       "100"
      ]
     },
     "execution_count": 95,
     "metadata": {},
     "output_type": "execute_result"
    }
   ],
   "source": [
    "with open('text_samples/short.txt', 'r') as file:\n",
    "    short_text = file.read()\n",
    "patterns = [\"it\", \"Lorem\", \"consectetur adipLorema\"]\n",
    "len(short_text)"
   ]
  },
  {
   "cell_type": "code",
   "execution_count": 96,
   "id": "4191b271",
   "metadata": {},
   "outputs": [
    {
     "data": {
      "text/html": [
       "<div>\n",
       "<style scoped>\n",
       "    .dataframe tbody tr th:only-of-type {\n",
       "        vertical-align: middle;\n",
       "    }\n",
       "\n",
       "    .dataframe tbody tr th {\n",
       "        vertical-align: top;\n",
       "    }\n",
       "\n",
       "    .dataframe thead th {\n",
       "        text-align: right;\n",
       "    }\n",
       "</style>\n",
       "<table border=\"1\" class=\"dataframe\">\n",
       "  <thead>\n",
       "    <tr style=\"text-align: right;\">\n",
       "      <th></th>\n",
       "      <th>Suffix array</th>\n",
       "      <th>Suffix tree</th>\n",
       "      <th>Knuth-Morris-Pratt</th>\n",
       "      <th>Boyer-Moore</th>\n",
       "      <th>Rabin-Karp</th>\n",
       "      <th>Aho-Corasick</th>\n",
       "    </tr>\n",
       "  </thead>\n",
       "  <tbody>\n",
       "    <tr>\n",
       "      <th>execution_time_ms</th>\n",
       "      <td>0.165701</td>\n",
       "      <td>0.352144</td>\n",
       "      <td>0.03314</td>\n",
       "      <td>0.046015</td>\n",
       "      <td>0.056744</td>\n",
       "      <td>0.035763</td>\n",
       "    </tr>\n",
       "    <tr>\n",
       "      <th>memory_usage_kb</th>\n",
       "      <td>0.0</td>\n",
       "      <td>0.0</td>\n",
       "      <td>0.0</td>\n",
       "      <td>0.0</td>\n",
       "      <td>0.0</td>\n",
       "      <td>0.0</td>\n",
       "    </tr>\n",
       "    <tr>\n",
       "      <th>compares</th>\n",
       "      <td>112</td>\n",
       "      <td>4</td>\n",
       "      <td>106</td>\n",
       "      <td>59</td>\n",
       "      <td>102</td>\n",
       "      <td>198</td>\n",
       "    </tr>\n",
       "    <tr>\n",
       "      <th>results</th>\n",
       "      <td>[19, 53]</td>\n",
       "      <td>[19, 53]</td>\n",
       "      <td>[19, 53]</td>\n",
       "      <td>[19, 53]</td>\n",
       "      <td>[19, 53]</td>\n",
       "      <td>[19, 53]</td>\n",
       "    </tr>\n",
       "  </tbody>\n",
       "</table>\n",
       "</div>"
      ],
      "text/plain": [
       "                  Suffix array Suffix tree Knuth-Morris-Pratt Boyer-Moore  \\\n",
       "execution_time_ms     0.165701    0.352144            0.03314    0.046015   \n",
       "memory_usage_kb            0.0         0.0                0.0         0.0   \n",
       "compares                   112           4                106          59   \n",
       "results               [19, 53]    [19, 53]           [19, 53]    [19, 53]   \n",
       "\n",
       "                  Rabin-Karp Aho-Corasick  \n",
       "execution_time_ms   0.056744     0.035763  \n",
       "memory_usage_kb          0.0          0.0  \n",
       "compares                 102          198  \n",
       "results             [19, 53]     [19, 53]  "
      ]
     },
     "execution_count": 96,
     "metadata": {},
     "output_type": "execute_result"
    }
   ],
   "source": [
    "d1 = compare_pattern_matching_algorithms(short_text, patterns[0])\n",
    "d1_df = pd.DataFrame(d1)\n",
    "d1_df"
   ]
  },
  {
   "cell_type": "code",
   "execution_count": 97,
   "id": "808ba95b",
   "metadata": {},
   "outputs": [
    {
     "data": {
      "text/plain": [
       "1000"
      ]
     },
     "execution_count": 97,
     "metadata": {},
     "output_type": "execute_result"
    }
   ],
   "source": [
    "with open('text_samples/medium.txt', 'r') as file:\n",
    "    medium_text = file.read()\n",
    "patterns = [\"tea\", \"Lorem\", \"Maecenas tempus, tellus\"]\n",
    "len(medium_text)"
   ]
  },
  {
   "cell_type": "code",
   "execution_count": 98,
   "id": "fdc30449",
   "metadata": {},
   "outputs": [
    {
     "ename": "ValueError",
     "evalue": "not enough values to unpack (expected 2, got 0)",
     "output_type": "error",
     "traceback": [
      "\u001b[31m---------------------------------------------------------------------------\u001b[39m",
      "\u001b[31mValueError\u001b[39m                                Traceback (most recent call last)",
      "\u001b[36mCell\u001b[39m\u001b[36m \u001b[39m\u001b[32mIn[98]\u001b[39m\u001b[32m, line 1\u001b[39m\n\u001b[32m----> \u001b[39m\u001b[32m1\u001b[39m d2 = \u001b[43mcompare_pattern_matching_algorithms\u001b[49m\u001b[43m(\u001b[49m\u001b[43mmedium_text\u001b[49m\u001b[43m,\u001b[49m\u001b[43m \u001b[49m\u001b[43mpatterns\u001b[49m\u001b[43m[\u001b[49m\u001b[32;43m0\u001b[39;49m\u001b[43m]\u001b[49m\u001b[43m)\u001b[49m\n\u001b[32m      2\u001b[39m d2_df = pd.DataFrame(d2)\n\u001b[32m      3\u001b[39m d2_df\n",
      "\u001b[36mCell\u001b[39m\u001b[36m \u001b[39m\u001b[32mIn[94]\u001b[39m\u001b[32m, line 41\u001b[39m, in \u001b[36mcompare_pattern_matching_algorithms\u001b[39m\u001b[34m(text, pattern)\u001b[39m\n\u001b[32m     39\u001b[39m st = SuffixTree(text)\n\u001b[32m     40\u001b[39m st.count_compares = \u001b[38;5;28;01mTrue\u001b[39;00m\n\u001b[32m---> \u001b[39m\u001b[32m41\u001b[39m st_result, st_compares = st.find_pattern(pattern)\n\u001b[32m     42\u001b[39m end_time = time.time()\n\u001b[32m     43\u001b[39m mem_after_st = get_memory_usage()\n",
      "\u001b[31mValueError\u001b[39m: not enough values to unpack (expected 2, got 0)"
     ]
    }
   ],
   "source": [
    "d2 = compare_pattern_matching_algorithms(medium_text, patterns[0])\n",
    "d2_df = pd.DataFrame(d2)\n",
    "d2_df"
   ]
  },
  {
   "cell_type": "code",
   "execution_count": null,
   "id": "9c5c3926",
   "metadata": {},
   "outputs": [
    {
     "data": {
      "text/plain": [
       "10000"
      ]
     },
     "execution_count": 85,
     "metadata": {},
     "output_type": "execute_result"
    }
   ],
   "source": [
    "with open('text_samples/long.txt', 'r') as file:\n",
    "    long_text = file.read()\n",
    "\n",
    "patterns = [\"llu\", \"Lorem\", \"scelerisque quis\", \"nec vitae orci sed dol\", \"Vestibulum eu odio. Vivamus laoreet. Nullam tincidunt\"]\n",
    "len(long_text)"
   ]
  },
  {
   "cell_type": "code",
   "execution_count": null,
   "id": "49dfbab3",
   "metadata": {},
   "outputs": [
    {
     "data": {
      "text/html": [
       "<div>\n",
       "<style scoped>\n",
       "    .dataframe tbody tr th:only-of-type {\n",
       "        vertical-align: middle;\n",
       "    }\n",
       "\n",
       "    .dataframe tbody tr th {\n",
       "        vertical-align: top;\n",
       "    }\n",
       "\n",
       "    .dataframe thead th {\n",
       "        text-align: right;\n",
       "    }\n",
       "</style>\n",
       "<table border=\"1\" class=\"dataframe\">\n",
       "  <thead>\n",
       "    <tr style=\"text-align: right;\">\n",
       "      <th></th>\n",
       "      <th>Suffix array</th>\n",
       "      <th>Suffix tree</th>\n",
       "      <th>Knuth-Morris-Pratt</th>\n",
       "      <th>Boyer-Moore</th>\n",
       "      <th>Rabin-Karp</th>\n",
       "      <th>Aho-Corasick</th>\n",
       "    </tr>\n",
       "  </thead>\n",
       "  <tbody>\n",
       "    <tr>\n",
       "      <th>execution_time_ms</th>\n",
       "      <td>131.96826</td>\n",
       "      <td>24.713755</td>\n",
       "      <td>1.503944</td>\n",
       "      <td>1.480341</td>\n",
       "      <td>4.144192</td>\n",
       "      <td>1.110792</td>\n",
       "    </tr>\n",
       "    <tr>\n",
       "      <th>memory_usage_kb</th>\n",
       "      <td>512.0</td>\n",
       "      <td>0.0</td>\n",
       "      <td>0.0</td>\n",
       "      <td>0.0</td>\n",
       "      <td>0.0</td>\n",
       "      <td>0.0</td>\n",
       "    </tr>\n",
       "    <tr>\n",
       "      <th>compares</th>\n",
       "      <td>17223</td>\n",
       "      <td>6</td>\n",
       "      <td>10455</td>\n",
       "      <td>3810</td>\n",
       "      <td>10069</td>\n",
       "      <td>19952</td>\n",
       "    </tr>\n",
       "    <tr>\n",
       "      <th>results</th>\n",
       "      <td>[562, 696, 707, 903, 1938, 2210, 2309, 2567, 2...</td>\n",
       "      <td>[562, 696, 707, 903, 1938, 2210, 2309, 2567, 2...</td>\n",
       "      <td>[562, 696, 707, 903, 1938, 2210, 2309, 2567, 2...</td>\n",
       "      <td>[562, 696, 707, 903, 1938, 2210, 2309, 2567, 2...</td>\n",
       "      <td>[562, 696, 707, 903, 1938, 2210, 2309, 2567, 2...</td>\n",
       "      <td>[562, 696, 707, 903, 1938, 2210, 2309, 2567, 2...</td>\n",
       "    </tr>\n",
       "  </tbody>\n",
       "</table>\n",
       "</div>"
      ],
      "text/plain": [
       "                                                        Suffix array  \\\n",
       "execution_time_ms                                          131.96826   \n",
       "memory_usage_kb                                                512.0   \n",
       "compares                                                       17223   \n",
       "results            [562, 696, 707, 903, 1938, 2210, 2309, 2567, 2...   \n",
       "\n",
       "                                                         Suffix tree  \\\n",
       "execution_time_ms                                          24.713755   \n",
       "memory_usage_kb                                                  0.0   \n",
       "compares                                                           6   \n",
       "results            [562, 696, 707, 903, 1938, 2210, 2309, 2567, 2...   \n",
       "\n",
       "                                                  Knuth-Morris-Pratt  \\\n",
       "execution_time_ms                                           1.503944   \n",
       "memory_usage_kb                                                  0.0   \n",
       "compares                                                       10455   \n",
       "results            [562, 696, 707, 903, 1938, 2210, 2309, 2567, 2...   \n",
       "\n",
       "                                                         Boyer-Moore  \\\n",
       "execution_time_ms                                           1.480341   \n",
       "memory_usage_kb                                                  0.0   \n",
       "compares                                                        3810   \n",
       "results            [562, 696, 707, 903, 1938, 2210, 2309, 2567, 2...   \n",
       "\n",
       "                                                          Rabin-Karp  \\\n",
       "execution_time_ms                                           4.144192   \n",
       "memory_usage_kb                                                  0.0   \n",
       "compares                                                       10069   \n",
       "results            [562, 696, 707, 903, 1938, 2210, 2309, 2567, 2...   \n",
       "\n",
       "                                                        Aho-Corasick  \n",
       "execution_time_ms                                           1.110792  \n",
       "memory_usage_kb                                                  0.0  \n",
       "compares                                                       19952  \n",
       "results            [562, 696, 707, 903, 1938, 2210, 2309, 2567, 2...  "
      ]
     },
     "execution_count": 86,
     "metadata": {},
     "output_type": "execute_result"
    }
   ],
   "source": [
    "d3 = compare_pattern_matching_algorithms(long_text, patterns[0])\n",
    "d3_df = pd.DataFrame(d3)\n",
    "d3_df"
   ]
  },
  {
   "cell_type": "code",
   "execution_count": null,
   "id": "f0c2b502",
   "metadata": {},
   "outputs": [
    {
     "data": {
      "text/plain": [
       "100000"
      ]
     },
     "execution_count": 87,
     "metadata": {},
     "output_type": "execute_result"
    }
   ],
   "source": [
    "with open('text_samples/verylong.txt', 'r') as file:\n",
    "    very_long_text = file.read()\n",
    "\n",
    "patterns = [\"lla\", \"lorem\", \"volutpat molestie\", \"In consectetuer turpis ut velit. Nulla sit\", \"Aliquam lobortis. Donec orci lectus, aliquam ut, faucibus non, euismod id\"]\n",
    "len(very_long_text)"
   ]
  }
 ],
 "metadata": {
  "kernelspec": {
   "display_name": "text",
   "language": "python",
   "name": "python3"
  },
  "language_info": {
   "codemirror_mode": {
    "name": "ipython",
    "version": 3
   },
   "file_extension": ".py",
   "mimetype": "text/x-python",
   "name": "python",
   "nbconvert_exporter": "python",
   "pygments_lexer": "ipython3",
   "version": "3.12.3"
  }
 },
 "nbformat": 4,
 "nbformat_minor": 5
}
