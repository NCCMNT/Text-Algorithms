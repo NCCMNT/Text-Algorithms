{
 "cells": [
  {
   "cell_type": "code",
   "execution_count": 36,
   "id": "3b4d5c08",
   "metadata": {},
   "outputs": [],
   "source": [
    "import time, psutil, os, sys\n",
    "\n",
    "# Importing suffix structures\n",
    "from ukkonen import SuffixTree\n",
    "from suffix_array import SuffixArray\n",
    "\n",
    "# Importing pattern finding algoritms from previous labs\n",
    "from utils.kmp_algorithm import kmp_pattern_match\n",
    "from utils.boyer_moore_algorithm import boyer_moore_pattern_match\n",
    "from utils.rabin_karp_algorithm import rabin_karp_pattern_match\n",
    "from utils.aho_corasick_algorithm import AhoCorasick"
   ]
  },
  {
   "cell_type": "code",
   "execution_count": 37,
   "id": "943c190a",
   "metadata": {},
   "outputs": [],
   "source": [
    "def get_memory_usage():\n",
    "    process = psutil.Process(os.getpid())\n",
    "    return process.memory_info().rss / 1024  # in KB"
   ]
  },
  {
   "cell_type": "code",
   "execution_count": 38,
   "id": "5f2aad5f",
   "metadata": {},
   "outputs": [],
   "source": [
    "def compare_pattern_matching_algorithms(text: str, pattern: str) -> dict:\n",
    "    \"\"\"\n",
    "    Compare the performance of different pattern matching algorithms.\n",
    " \n",
    "    Args:\n",
    "        text: The text to search in\n",
    "        pattern: The pattern to search for\n",
    " \n",
    "    Returns:\n",
    "        A dictionary containing the results of each algorithm:\n",
    "        - Execution time in milliseconds\n",
    "        - Memory usage in kilobytes\n",
    "        - Number of character comparisons made\n",
    "        - Positions where the pattern was found\n",
    "    \"\"\"\n",
    "    prior_mem = get_memory_usage()\n",
    "\n",
    "    # Implement algorithm comparisons\n",
    "    # For each algorithm:\n",
    "    #   1. Measure execution time\n",
    "    #   2. Measure memory usage\n",
    "    #   3. Count character comparisons\n",
    "    #   4. Find pattern positions\n",
    "\n",
    "    # Measuring time and memory usage\n",
    "\n",
    "    # Suffix array time exec and mem usage\n",
    "    start_time = time.time()\n",
    "    sa = SuffixArray(text)\n",
    "    sa.count_compares = True\n",
    "    sa_result, sa_compares = sa.find_pattern(pattern)\n",
    "    end_time = time.time()\n",
    "    mem_after_sa = get_memory_usage()\n",
    "    sarray_time_exec = (end_time - start_time) * 1000\n",
    "    sarray_mem_usage = mem_after_sa - prior_mem\n",
    "\n",
    "    # Suffix tree time exec and mem usage\n",
    "    start_time = time.time()\n",
    "    st = SuffixTree(text)\n",
    "    st.count_compares = True\n",
    "    st_result, st_compares = st.find_pattern(text)\n",
    "    end_time = time.time()\n",
    "    mem_after_st = get_memory_usage()\n",
    "    stree_time_exec = (end_time - start_time) * 1000\n",
    "    stree_mem_usage = mem_after_st - mem_after_sa\n",
    "\n",
    "    # KMP time exec and mem usage\n",
    "    start_time = time.time()\n",
    "    kmp_result, kmp_compares = kmp_pattern_match(text, pattern)\n",
    "    end_time = time.time()\n",
    "    mem_after_kmp = get_memory_usage()\n",
    "    kmp_time_exec = (end_time - start_time) * 1000\n",
    "    kmp_mem_usage = mem_after_kmp - mem_after_st\n",
    "    \n",
    "    # Boyer-Moore time exec and mem usage\n",
    "    start_time = time.time()\n",
    "    bm_result, bm_compares = boyer_moore_pattern_match(text, pattern)\n",
    "    end_time = time.time()\n",
    "    mem_after_bm = get_memory_usage()\n",
    "    bm_time_exec = (end_time - start_time) * 1000\n",
    "    bm_mem_usage = mem_after_bm - mem_after_kmp\n",
    "\n",
    "    # Rabin-Karp time exec and mem usage\n",
    "    start_time = time.time()\n",
    "    rk_result, rk_compares = rabin_karp_pattern_match(text, pattern)\n",
    "    end_time = time.time()\n",
    "    mem_after_rk = get_memory_usage()\n",
    "    rk_time_exec = (end_time - start_time) * 1000\n",
    "    rk_mem_usage = mem_after_rk - mem_after_bm\n",
    "\n",
    "    # Aho-Corasick time exec and mem usage\n",
    "    start_time = time.time()\n",
    "    ac = AhoCorasick(pattern)\n",
    "    ac_result, ac_compares = ac.search(text)\n",
    "    end_time = time.time()\n",
    "    mem_after_ac = get_memory_usage()\n",
    "    ac_time_exec = (end_time - start_time) * 1000\n",
    "    ac_mem_usage = mem_after_ac - mem_after_rk\n",
    "\n",
    "    return {\n",
    "        \"Suffix array\": {\n",
    "            \"construction_time_ms\": sarray_time_exec,\n",
    "            \"memory_usage_kb\": sarray_mem_usage,\n",
    "            \"compares\": sa_compares,\n",
    "            \"results\": sa_result\n",
    "        },\n",
    "        \"Suffix tree\": {\n",
    "            \"construction_time_ms\": stree_time_exec,\n",
    "            \"memory_usage_kb\": stree_mem_usage,\n",
    "            \"compares\": st_compares,\n",
    "            \"results\": st_result\n",
    "        },\n",
    "        \"Knuth-Morris-Pratt\": {\n",
    "            \"construction_time_ms\": kmp_time_exec,\n",
    "            \"memory_usage_kb\": kmp_mem_usage,\n",
    "            \"compares\": kmp_compares,\n",
    "            \"results\": kmp_result\n",
    "        },\n",
    "        \"Boyer-Moore\": {\n",
    "            \"construction_time_ms\": bm_time_exec,\n",
    "            \"memory_usage_kb\": bm_mem_usage,\n",
    "            \"compares\": bm_compares,\n",
    "            \"results\": bm_result\n",
    "        },\n",
    "        \"Rabin-Karp\": {\n",
    "            \"construction_time_ms\": rk_time_exec,\n",
    "            \"memory_usage_kb\": rk_mem_usage,\n",
    "            \"compares\": rk_compares,\n",
    "            \"results\": rk_result\n",
    "        },\n",
    "        \"Aho-Corasick\": {\n",
    "            \"construction_time_ms\": ac_time_exec,\n",
    "            \"memory_usage_kb\": ac_mem_usage,\n",
    "            \"compares\": ac_compares,\n",
    "            \"results\": ac_result\n",
    "        }\n",
    "    }"
   ]
  },
  {
   "cell_type": "code",
   "execution_count": 39,
   "id": "43eb6aa9",
   "metadata": {},
   "outputs": [
    {
     "data": {
      "text/plain": [
       "100"
      ]
     },
     "execution_count": 39,
     "metadata": {},
     "output_type": "execute_result"
    }
   ],
   "source": [
    "short_text = \"LLLorem im daolor sit amet, consectetur adipLorema elit, sed do eiusmod Loremc incididunt ut labore \"\n",
    "len(short_text)"
   ]
  },
  {
   "cell_type": "code",
   "execution_count": 41,
   "id": "4191b271",
   "metadata": {},
   "outputs": [
    {
     "ename": "ValueError",
     "evalue": "too many values to unpack (expected 2)",
     "output_type": "error",
     "traceback": [
      "\u001b[31m---------------------------------------------------------------------------\u001b[39m",
      "\u001b[31mValueError\u001b[39m                                Traceback (most recent call last)",
      "\u001b[36mCell\u001b[39m\u001b[36m \u001b[39m\u001b[32mIn[41]\u001b[39m\u001b[32m, line 2\u001b[39m\n\u001b[32m      1\u001b[39m pattern = \u001b[33m\"\u001b[39m\u001b[33mLorem\u001b[39m\u001b[33m\"\u001b[39m\n\u001b[32m----> \u001b[39m\u001b[32m2\u001b[39m d1 = \u001b[43mcompare_pattern_matching_algorithms\u001b[49m\u001b[43m(\u001b[49m\u001b[43mshort_text\u001b[49m\u001b[43m,\u001b[49m\u001b[43m \u001b[49m\u001b[43mpattern\u001b[49m\u001b[43m)\u001b[49m\n\u001b[32m      3\u001b[39m d1\n",
      "\u001b[36mCell\u001b[39m\u001b[36m \u001b[39m\u001b[32mIn[38]\u001b[39m\u001b[32m, line 31\u001b[39m, in \u001b[36mcompare_pattern_matching_algorithms\u001b[39m\u001b[34m(text, pattern)\u001b[39m\n\u001b[32m     29\u001b[39m sa = SuffixArray(text)\n\u001b[32m     30\u001b[39m sa.count_compares = \u001b[38;5;28;01mTrue\u001b[39;00m\n\u001b[32m---> \u001b[39m\u001b[32m31\u001b[39m sa_result, sa_compares = sa.find_pattern(pattern)\n\u001b[32m     32\u001b[39m end_time = time.time()\n\u001b[32m     33\u001b[39m mem_after_sa = get_memory_usage()\n",
      "\u001b[31mValueError\u001b[39m: too many values to unpack (expected 2)"
     ]
    }
   ],
   "source": [
    "pattern = \"Lorem\"\n",
    "d1 = compare_pattern_matching_algorithms(short_text, pattern)\n",
    "d1"
   ]
  }
 ],
 "metadata": {
  "kernelspec": {
   "display_name": "text",
   "language": "python",
   "name": "python3"
  },
  "language_info": {
   "codemirror_mode": {
    "name": "ipython",
    "version": 3
   },
   "file_extension": ".py",
   "mimetype": "text/x-python",
   "name": "python",
   "nbconvert_exporter": "python",
   "pygments_lexer": "ipython3",
   "version": "3.12.3"
  }
 },
 "nbformat": 4,
 "nbformat_minor": 5
}
