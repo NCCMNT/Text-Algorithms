{
 "cells": [
  {
   "cell_type": "code",
   "execution_count": null,
   "id": "3b4d5c08",
   "metadata": {},
   "outputs": [],
   "source": [
    "from ukkonen import SuffixTree\n"
   ]
  }
 ],
 "metadata": {
  "language_info": {
   "name": "python"
  }
 },
 "nbformat": 4,
 "nbformat_minor": 5
}
